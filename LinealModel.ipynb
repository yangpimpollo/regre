{
 "cells": [
  {
   "cell_type": "markdown",
   "id": "b8af624e",
   "metadata": {},
   "source": [
    "## CONSIDERACIONES"
   ]
  },
  {
   "cell_type": "code",
   "execution_count": 7,
   "id": "ef02c322",
   "metadata": {},
   "outputs": [
    {
     "data": {
      "text/html": [
       "<table class=\"dataframe\">\n",
       "<caption>A matrix: 3 × 2 of type dbl</caption>\n",
       "<tbody>\n",
       "\t<tr><td>1</td><td>4</td></tr>\n",
       "\t<tr><td>2</td><td>5</td></tr>\n",
       "\t<tr><td>3</td><td>6</td></tr>\n",
       "</tbody>\n",
       "</table>\n"
      ],
      "text/latex": [
       "A matrix: 3 × 2 of type dbl\n",
       "\\begin{tabular}{ll}\n",
       "\t 1 & 4\\\\\n",
       "\t 2 & 5\\\\\n",
       "\t 3 & 6\\\\\n",
       "\\end{tabular}\n"
      ],
      "text/markdown": [
       "\n",
       "A matrix: 3 × 2 of type dbl\n",
       "\n",
       "| 1 | 4 |\n",
       "| 2 | 5 |\n",
       "| 3 | 6 |\n",
       "\n"
      ],
      "text/plain": [
       "     [,1] [,2]\n",
       "[1,] 1    4   \n",
       "[2,] 2    5   \n",
       "[3,] 3    6   "
      ]
     },
     "metadata": {},
     "output_type": "display_data"
    }
   ],
   "source": [
    "M <- matrix(c(1,2,3,4,5,6), nrow = 3, ncol = 2)\n",
    "M"
   ]
  },
  {
   "cell_type": "code",
   "execution_count": 9,
   "id": "db399467",
   "metadata": {},
   "outputs": [
    {
     "data": {
      "text/html": [
       "<table class=\"dataframe\">\n",
       "<caption>A matrix: 3 × 3 of type dbl</caption>\n",
       "<tbody>\n",
       "\t<tr><td>8</td><td>1</td><td>4</td></tr>\n",
       "\t<tr><td>8</td><td>2</td><td>5</td></tr>\n",
       "\t<tr><td>8</td><td>3</td><td>6</td></tr>\n",
       "</tbody>\n",
       "</table>\n"
      ],
      "text/latex": [
       "A matrix: 3 × 3 of type dbl\n",
       "\\begin{tabular}{lll}\n",
       "\t 8 & 1 & 4\\\\\n",
       "\t 8 & 2 & 5\\\\\n",
       "\t 8 & 3 & 6\\\\\n",
       "\\end{tabular}\n"
      ],
      "text/markdown": [
       "\n",
       "A matrix: 3 × 3 of type dbl\n",
       "\n",
       "| 8 | 1 | 4 |\n",
       "| 8 | 2 | 5 |\n",
       "| 8 | 3 | 6 |\n",
       "\n"
      ],
      "text/plain": [
       "     [,1] [,2] [,3]\n",
       "[1,] 8    1    4   \n",
       "[2,] 8    2    5   \n",
       "[3,] 8    3    6   "
      ]
     },
     "metadata": {},
     "output_type": "display_data"
    }
   ],
   "source": [
    "M = cbind(matrix(8, nrow = 3, ncol = 1),M)\n",
    "M"
   ]
  },
  {
   "cell_type": "code",
   "execution_count": 11,
   "id": "d6e764bc",
   "metadata": {},
   "outputs": [
    {
     "data": {
      "text/html": [
       "<table class=\"dataframe\">\n",
       "<caption>A matrix: 3 × 3 of type dbl</caption>\n",
       "<tbody>\n",
       "\t<tr><td>1</td><td>0</td><td>0</td></tr>\n",
       "\t<tr><td>0</td><td>1</td><td>0</td></tr>\n",
       "\t<tr><td>0</td><td>0</td><td>1</td></tr>\n",
       "</tbody>\n",
       "</table>\n"
      ],
      "text/latex": [
       "A matrix: 3 × 3 of type dbl\n",
       "\\begin{tabular}{lll}\n",
       "\t 1 & 0 & 0\\\\\n",
       "\t 0 & 1 & 0\\\\\n",
       "\t 0 & 0 & 1\\\\\n",
       "\\end{tabular}\n"
      ],
      "text/markdown": [
       "\n",
       "A matrix: 3 × 3 of type dbl\n",
       "\n",
       "| 1 | 0 | 0 |\n",
       "| 0 | 1 | 0 |\n",
       "| 0 | 0 | 1 |\n",
       "\n"
      ],
      "text/plain": [
       "     [,1] [,2] [,3]\n",
       "[1,] 1    0    0   \n",
       "[2,] 0    1    0   \n",
       "[3,] 0    0    1   "
      ]
     },
     "metadata": {},
     "output_type": "display_data"
    }
   ],
   "source": [
    "#    producto de matrices    %*%\n",
    "#    inversa de matrices     solve(M)\n",
    "diag(3)"
   ]
  },
  {
   "cell_type": "markdown",
   "id": "8c4443ce",
   "metadata": {},
   "source": [
    "## Por Paquete"
   ]
  },
  {
   "cell_type": "code",
   "execution_count": null,
   "id": "033b2db4",
   "metadata": {},
   "outputs": [],
   "source": [
    "#   model <- lm(y ~ x)\n",
    "#   summary(model)\n",
    "#   sigma(model)\n",
    "#   anova(model)\n",
    "#   confint(model, level = 0.95)"
   ]
  },
  {
   "cell_type": "markdown",
   "id": "b77ec7c9",
   "metadata": {},
   "source": [
    "## Por Manual"
   ]
  },
  {
   "cell_type": "code",
   "execution_count": null,
   "id": "1d3d7d51",
   "metadata": {},
   "outputs": [],
   "source": [
    "# Bmco=(x'x)^-1 x' y\n",
    "# Bmco <- solve(t(x) %*% x) %*% t(x) %*% y\n"
   ]
  },
  {
   "cell_type": "code",
   "execution_count": 17,
   "id": "4e121ffd",
   "metadata": {},
   "outputs": [],
   "source": [
    "#  qnorm(1 - 0.05/2)=1.96               0.025  ---  0.025    95% de confianza\n",
    "#  qt(1 - 0.05/2, df)                  t-student 2 colas"
   ]
  },
  {
   "cell_type": "markdown",
   "id": "0139b5ed",
   "metadata": {},
   "source": [
    "## ANVA general"
   ]
  },
  {
   "cell_type": "code",
   "execution_count": 4,
   "id": "0f0f7f9f",
   "metadata": {},
   "outputs": [],
   "source": [
    "\n",
    "prueba_significancia_general <- function(X, Y, alpha=0.05) {\n",
    "    \n",
    "  p = ncol(X)-1\n",
    "  n = nrow(Y)\n",
    "\n",
    "  Hx = X %*% solve(t(X) %*% X ) %*% t(X)\n",
    "  Jn = matrix(1/n, n, n)\n",
    "    \n",
    "  SCE = t(Y) %*% (Hx - Jn) %*% Y\n",
    "  SCR = t(Y) %*% (diag(n) - Hx) %*% Y\n",
    "  SCT = t(Y) %*% (diag(n) - Jn) %*% Y\n",
    "    \n",
    "  CME = SCE/p\n",
    "  CMR = SCR/(n-p-1)\n",
    "    \n",
    "  Fc = CME/CMR\n",
    "  F_tabla = qf(1-alpha, p, n-p-1)\n",
    "\n",
    "  print(\"ANVA\")\n",
    "  \n",
    "  tabla_anva = matrix(NA, nrow = 3, ncol = 5)\n",
    "  tabla_anva = as.data.frame(tabla_anva)\n",
    "  names(tabla_anva) = c('Fuente', 'GL', 'SC', 'CM', 'Fc')\n",
    "  tabla_anva[,'Fuente'] = c('regresion', 'residual', 'Total')\n",
    "  tabla_anva[,'GL'] = c(p, n-p-1, n)\n",
    "  tabla_anva[,'SC'] = c(SCE, SCR, SCT)\n",
    "  tabla_anva[,'CM'] = c(CME, CMR, NA)\n",
    "  tabla_anva[,'Fc'] = c(Fc, NA,  NA)\n",
    "  View(tabla_anva)\n",
    "  \n",
    "  \n",
    "  print(paste(\"el F calculado vale:\", Fc))\n",
    "  print(paste(\"el F tabla vale:\", F_tabla))\n",
    "  print(paste(\"la varianza residual:\", CMR))\n",
    "  print(paste(\"error estandar:\", CMR**0.5))\n",
    "    \n",
    "  if(Fc <= F_tabla){\n",
    "    sprintf('No se rechaza H0 al %s de significancia', alpha)\n",
    "  }else{\n",
    "    sprintf('Se rechaza H0 al %s de significancia', alpha)\n",
    "  }\n",
    "    \n",
    "}"
   ]
  },
  {
   "cell_type": "code",
   "execution_count": 5,
   "id": "4948bccf",
   "metadata": {
    "scrolled": true
   },
   "outputs": [
    {
     "data": {
      "text/html": [
       "<table class=\"dataframe\">\n",
       "<caption>A data.frame: 3 × 5</caption>\n",
       "<thead>\n",
       "\t<tr><th scope=col>Fuente</th><th scope=col>GL</th><th scope=col>SC</th><th scope=col>CM</th><th scope=col>Fc</th></tr>\n",
       "\t<tr><th scope=col>&lt;chr&gt;</th><th scope=col>&lt;dbl&gt;</th><th scope=col>&lt;dbl&gt;</th><th scope=col>&lt;dbl&gt;</th><th scope=col>&lt;dbl&gt;</th></tr>\n",
       "</thead>\n",
       "<tbody>\n",
       "\t<tr><td>regresion</td><td>2</td><td>2900.5</td><td>1450.25</td><td>37.1859</td></tr>\n",
       "\t<tr><td>residual </td><td>3</td><td> 117.0</td><td>  39.00</td><td>     NA</td></tr>\n",
       "\t<tr><td>Total    </td><td>6</td><td>3017.5</td><td>     NA</td><td>     NA</td></tr>\n",
       "</tbody>\n",
       "</table>\n"
      ],
      "text/latex": [
       "A data.frame: 3 × 5\n",
       "\\begin{tabular}{lllll}\n",
       " Fuente & GL & SC & CM & Fc\\\\\n",
       " <chr> & <dbl> & <dbl> & <dbl> & <dbl>\\\\\n",
       "\\hline\n",
       "\t regresion & 2 & 2900.5 & 1450.25 & 37.1859\\\\\n",
       "\t residual  & 3 &  117.0 &   39.00 &      NA\\\\\n",
       "\t Total     & 6 & 3017.5 &      NA &      NA\\\\\n",
       "\\end{tabular}\n"
      ],
      "text/markdown": [
       "\n",
       "A data.frame: 3 × 5\n",
       "\n",
       "| Fuente &lt;chr&gt; | GL &lt;dbl&gt; | SC &lt;dbl&gt; | CM &lt;dbl&gt; | Fc &lt;dbl&gt; |\n",
       "|---|---|---|---|---|\n",
       "| regresion | 2 | 2900.5 | 1450.25 | 37.1859 |\n",
       "| residual  | 3 |  117.0 |   39.00 |      NA |\n",
       "| Total     | 6 | 3017.5 |      NA |      NA |\n",
       "\n"
      ],
      "text/plain": [
       "  Fuente    GL SC     CM      Fc     \n",
       "1 regresion 2  2900.5 1450.25 37.1859\n",
       "2 residual  3   117.0   39.00      NA\n",
       "3 Total     6  3017.5      NA      NA"
      ]
     },
     "metadata": {},
     "output_type": "display_data"
    },
    {
     "name": "stdout",
     "output_type": "stream",
     "text": [
      "[1] \"ANVA\"\n",
      "[1] \"el F calculado vale: 37.1858974358971\"\n",
      "[1] \"el F tabla vale: 9.55209449592115\"\n",
      "[1] \"la varianza residual: 39.0000000000003\"\n",
      "[1] \"error estandar: 6.24499799839842\"\n"
     ]
    },
    {
     "data": {
      "text/html": [
       "'Se rechaza H0 al 0.05 de significancia'"
      ],
      "text/latex": [
       "'Se rechaza H0 al 0.05 de significancia'"
      ],
      "text/markdown": [
       "'Se rechaza H0 al 0.05 de significancia'"
      ],
      "text/plain": [
       "[1] \"Se rechaza H0 al 0.05 de significancia\""
      ]
     },
     "metadata": {},
     "output_type": "display_data"
    }
   ],
   "source": [
    "x <- matrix(c(1,1,1,1,1,1,\n",
    "              -10,0,10,-10,0,10,\n",
    "             0,-5,5,0,5,-5), nrow = 6, ncol = 3)\n",
    "\n",
    "y <- matrix(c(11,8,73,21,46,30), nrow = 6, ncol = 1)\n",
    "\n",
    "prueba_significancia_general(x, y, alpha=0.05)"
   ]
  },
  {
   "cell_type": "markdown",
   "id": "7d2e39f2",
   "metadata": {},
   "source": [
    "## ANVA subgrupo"
   ]
  },
  {
   "cell_type": "code",
   "execution_count": 6,
   "id": "abc3b18a",
   "metadata": {},
   "outputs": [],
   "source": [
    "prueba_significancia_subgrupo <- function(X, Y, alpha=0.05, va_interes) {\n",
    "  \n",
    "  p = ncol(X)-1\n",
    "  n = nrow(Y)\n",
    "  k = length(va_interes)\n",
    "  \n",
    "  X1 <- X[, -(va_interes+1)]\n",
    "  Hx = X %*% solve(t(X) %*% X ) %*% t(X)\n",
    "  Hx1 = X1 %*% solve(t(X1) %*% X1 ) %*% t(X1)\n",
    "  \n",
    "  SCEB1 = t(Y) %*% Hx1 %*% Y\n",
    "  SCEB2B1 = t(Y) %*% (Hx - Hx1) %*% Y\n",
    "  SCR = t(Y) %*% (diag(n) - Hx) %*% Y\n",
    "  SCT = t(Y) %*% Y\n",
    "  \n",
    "  CMEB1 = SCEB1/(p+1-k)\n",
    "  CMEB2B1 = SCEB2B1/(k)\n",
    "  CMR = SCR/(n-p-1)\n",
    "  \n",
    "  Fc = CMEB2B1/CMR\n",
    "  F_tabla = qf(1-alpha, k, n-p-1)\n",
    "  \n",
    "  print(\"ANVA\")\n",
    "  \n",
    "  tabla_anva = matrix(NA, nrow = 4, ncol = 5)\n",
    "  tabla_anva = as.data.frame(tabla_anva)\n",
    "  names(tabla_anva) = c('Fuente', 'GL', 'SC', 'CM', 'Fc')\n",
    "  tabla_anva[,'Fuente'] = c('β1', 'β2|β2', 'residual', 'Total')\n",
    "  tabla_anva[,'GL'] = c(p+1-k, k, n-p-1, n)\n",
    "  tabla_anva[,'SC'] = c(SCEB1, SCEB2B1, SCR, SCT)\n",
    "  tabla_anva[,'CM'] = c(CMEB1, CMEB2B1, CMR, NA)\n",
    "  tabla_anva[,'Fc'] = c(NA, Fc, NA,  NA)\n",
    "  View(tabla_anva)\n",
    "  \n",
    "  \n",
    "  print(paste(\"el F calculado vale:\", Fc))\n",
    "  print(paste(\"el F tabla vale:\", F_tabla))\n",
    "  if(Fc <= F_tabla){\n",
    "    sprintf('No se rechaza H0 al %s de significancia', alpha)\n",
    "  }else{\n",
    "    sprintf('Se rechaza H0 al %s de significancia', alpha)\n",
    "  }\n",
    "  \n",
    "}"
   ]
  },
  {
   "cell_type": "code",
   "execution_count": null,
   "id": "ef2e14f5",
   "metadata": {},
   "outputs": [],
   "source": [
    "# Simulamos Datos =======================================\n",
    "\n",
    "n = 2000\n",
    "x1 = rnorm(n, 15, 1)\n",
    "x2 = rnorm(n, 5, 2)\n",
    "x3 = rnorm(n, 2, 0.5)\n",
    "x4 = rnorm(n, 25, 5)\n",
    "e = rnorm(n)\n",
    "y = 50 + 0*x1 + 5*x2 + 0*x3 + 26*x4 + e\n",
    "\n",
    "base = data.frame(x1,x2,x3,x4,y)\n",
    "\n",
    "vec_unos = function(n) matrix(1, nrow = n, ncol = 1)\n",
    "\n",
    "Y = matrix(base[,'y'], ncol = 1)\n",
    "X = cbind(vec_unos(n),base[,c('x1','x2','x3','x4')])\n",
    "X = as.matrix(X)\n",
    "\n",
    "\n",
    "# Probamos la funcion =======================================\n",
    "\n",
    "prueba_significancia_subgrupo(X, Y,alpha = 0.01, va_interes=c(2, 3))"
   ]
  }
 ],
 "metadata": {
  "kernelspec": {
   "display_name": "R",
   "language": "R",
   "name": "ir"
  },
  "language_info": {
   "codemirror_mode": "r",
   "file_extension": ".r",
   "mimetype": "text/x-r-source",
   "name": "R",
   "pygments_lexer": "r",
   "version": "4.3.1"
  }
 },
 "nbformat": 4,
 "nbformat_minor": 5
}
