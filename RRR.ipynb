{
 "cells": [
  {
   "cell_type": "code",
   "execution_count": 3,
   "id": "5bb89837",
   "metadata": {},
   "outputs": [
    {
     "data": {
      "text/html": [
       "<table class=\"dataframe\">\n",
       "<caption>A matrix: 3 × 2 of type dbl</caption>\n",
       "<tbody>\n",
       "\t<tr><td>1</td><td>4</td></tr>\n",
       "\t<tr><td>2</td><td>5</td></tr>\n",
       "\t<tr><td>3</td><td>6</td></tr>\n",
       "</tbody>\n",
       "</table>\n"
      ],
      "text/latex": [
       "A matrix: 3 × 2 of type dbl\n",
       "\\begin{tabular}{ll}\n",
       "\t 1 & 4\\\\\n",
       "\t 2 & 5\\\\\n",
       "\t 3 & 6\\\\\n",
       "\\end{tabular}\n"
      ],
      "text/markdown": [
       "\n",
       "A matrix: 3 × 2 of type dbl\n",
       "\n",
       "| 1 | 4 |\n",
       "| 2 | 5 |\n",
       "| 3 | 6 |\n",
       "\n"
      ],
      "text/plain": [
       "     [,1] [,2]\n",
       "[1,] 1    4   \n",
       "[2,] 2    5   \n",
       "[3,] 3    6   "
      ]
     },
     "metadata": {},
     "output_type": "display_data"
    }
   ],
   "source": [
    "# Create a matrix\n",
    "thismatrix <- matrix(c(1,2,3,4,5,6), nrow = 3, ncol = 2)\n",
    "\n",
    "# Print the matrix\n",
    "thismatrix"
   ]
  },
  {
   "cell_type": "code",
   "execution_count": 6,
   "id": "840d3c95",
   "metadata": {},
   "outputs": [
    {
     "data": {
      "text/html": [
       "<table class=\"dataframe\">\n",
       "<caption>A matrix: 2 × 2 of type dbl</caption>\n",
       "<tbody>\n",
       "\t<tr><td>14</td><td>32</td></tr>\n",
       "\t<tr><td>32</td><td>77</td></tr>\n",
       "</tbody>\n",
       "</table>\n"
      ],
      "text/latex": [
       "A matrix: 2 × 2 of type dbl\n",
       "\\begin{tabular}{ll}\n",
       "\t 14 & 32\\\\\n",
       "\t 32 & 77\\\\\n",
       "\\end{tabular}\n"
      ],
      "text/markdown": [
       "\n",
       "A matrix: 2 × 2 of type dbl\n",
       "\n",
       "| 14 | 32 |\n",
       "| 32 | 77 |\n",
       "\n"
      ],
      "text/plain": [
       "     [,1] [,2]\n",
       "[1,] 14   32  \n",
       "[2,] 32   77  "
      ]
     },
     "metadata": {},
     "output_type": "display_data"
    }
   ],
   "source": [
    "M <- t(thismatrix) %*% thismatrix    # producto\n",
    "M"
   ]
  },
  {
   "cell_type": "code",
   "execution_count": 7,
   "id": "9e3c8536",
   "metadata": {},
   "outputs": [
    {
     "data": {
      "text/html": [
       "<table class=\"dataframe\">\n",
       "<caption>A matrix: 2 × 2 of type dbl</caption>\n",
       "<tbody>\n",
       "\t<tr><td> 1.4259259</td><td>-0.5925926</td></tr>\n",
       "\t<tr><td>-0.5925926</td><td> 0.2592593</td></tr>\n",
       "</tbody>\n",
       "</table>\n"
      ],
      "text/latex": [
       "A matrix: 2 × 2 of type dbl\n",
       "\\begin{tabular}{ll}\n",
       "\t  1.4259259 & -0.5925926\\\\\n",
       "\t -0.5925926 &  0.2592593\\\\\n",
       "\\end{tabular}\n"
      ],
      "text/markdown": [
       "\n",
       "A matrix: 2 × 2 of type dbl\n",
       "\n",
       "|  1.4259259 | -0.5925926 |\n",
       "| -0.5925926 |  0.2592593 |\n",
       "\n"
      ],
      "text/plain": [
       "     [,1]       [,2]      \n",
       "[1,]  1.4259259 -0.5925926\n",
       "[2,] -0.5925926  0.2592593"
      ]
     },
     "metadata": {},
     "output_type": "display_data"
    }
   ],
   "source": [
    "solve(M)   # inversa"
   ]
  },
  {
   "cell_type": "markdown",
   "id": "a51eea73",
   "metadata": {},
   "source": [
    "### Ejercicio"
   ]
  },
  {
   "cell_type": "code",
   "execution_count": 8,
   "id": "b7d81bf1",
   "metadata": {},
   "outputs": [
    {
     "data": {
      "text/html": [
       "<table class=\"dataframe\">\n",
       "<caption>A matrix: 6 × 3 of type dbl</caption>\n",
       "<tbody>\n",
       "\t<tr><td>1</td><td>-10</td><td> 0</td></tr>\n",
       "\t<tr><td>1</td><td>  0</td><td>-5</td></tr>\n",
       "\t<tr><td>1</td><td> 10</td><td> 5</td></tr>\n",
       "\t<tr><td>1</td><td>-10</td><td> 0</td></tr>\n",
       "\t<tr><td>1</td><td>  0</td><td> 5</td></tr>\n",
       "\t<tr><td>1</td><td> 10</td><td>-5</td></tr>\n",
       "</tbody>\n",
       "</table>\n"
      ],
      "text/latex": [
       "A matrix: 6 × 3 of type dbl\n",
       "\\begin{tabular}{lll}\n",
       "\t 1 & -10 &  0\\\\\n",
       "\t 1 &   0 & -5\\\\\n",
       "\t 1 &  10 &  5\\\\\n",
       "\t 1 & -10 &  0\\\\\n",
       "\t 1 &   0 &  5\\\\\n",
       "\t 1 &  10 & -5\\\\\n",
       "\\end{tabular}\n"
      ],
      "text/markdown": [
       "\n",
       "A matrix: 6 × 3 of type dbl\n",
       "\n",
       "| 1 | -10 |  0 |\n",
       "| 1 |   0 | -5 |\n",
       "| 1 |  10 |  5 |\n",
       "| 1 | -10 |  0 |\n",
       "| 1 |   0 |  5 |\n",
       "| 1 |  10 | -5 |\n",
       "\n"
      ],
      "text/plain": [
       "     [,1] [,2] [,3]\n",
       "[1,] 1    -10   0  \n",
       "[2,] 1      0  -5  \n",
       "[3,] 1     10   5  \n",
       "[4,] 1    -10   0  \n",
       "[5,] 1      0   5  \n",
       "[6,] 1     10  -5  "
      ]
     },
     "metadata": {},
     "output_type": "display_data"
    }
   ],
   "source": [
    "x <- matrix(c(1,1,1,1,1,1,\n",
    "              -10,0,10,-10,0,10,\n",
    "             0,-5,5,0,5,-5), nrow = 6, ncol = 3)\n",
    "x"
   ]
  },
  {
   "cell_type": "code",
   "execution_count": 9,
   "id": "acfaae28",
   "metadata": {},
   "outputs": [
    {
     "data": {
      "text/html": [
       "<table class=\"dataframe\">\n",
       "<caption>A matrix: 3 × 1 of type dbl</caption>\n",
       "<tbody>\n",
       "\t<tr><td>31.500</td></tr>\n",
       "\t<tr><td> 1.775</td></tr>\n",
       "\t<tr><td> 4.050</td></tr>\n",
       "</tbody>\n",
       "</table>\n"
      ],
      "text/latex": [
       "A matrix: 3 × 1 of type dbl\n",
       "\\begin{tabular}{l}\n",
       "\t 31.500\\\\\n",
       "\t  1.775\\\\\n",
       "\t  4.050\\\\\n",
       "\\end{tabular}\n"
      ],
      "text/markdown": [
       "\n",
       "A matrix: 3 × 1 of type dbl\n",
       "\n",
       "| 31.500 |\n",
       "|  1.775 |\n",
       "|  4.050 |\n",
       "\n"
      ],
      "text/plain": [
       "     [,1]  \n",
       "[1,] 31.500\n",
       "[2,]  1.775\n",
       "[3,]  4.050"
      ]
     },
     "metadata": {},
     "output_type": "display_data"
    }
   ],
   "source": [
    "y <- matrix(c(11,8,73,21,46,30), nrow = 6, ncol = 1)\n",
    "\n",
    "# Bmco=(x'x)^-1 x' y\n",
    "\n",
    "Bmco <- solve(t(x) %*% x) %*% t(x) %*% y\n",
    "Bmco"
   ]
  },
  {
   "cell_type": "markdown",
   "id": "1d61cbda",
   "metadata": {},
   "source": [
    "### por lm"
   ]
  },
  {
   "cell_type": "code",
   "execution_count": 12,
   "id": "33302cb7",
   "metadata": {},
   "outputs": [
    {
     "data": {
      "text/plain": [
       "\n",
       "Call:\n",
       "lm(formula = y ~ X)\n",
       "\n",
       "Coefficients:\n",
       "(Intercept)           X1           X2  \n",
       "     31.500        1.775        4.050  \n"
      ]
     },
     "metadata": {},
     "output_type": "display_data"
    }
   ],
   "source": [
    "X <- matrix(c( -10, 0,10,-10,0,10,\n",
    "                 0,-5, 5,  0,5,-5 ), nrow = 6, ncol = 2)\n",
    "modelo <- lm(y ~ X)\n",
    "modelo"
   ]
  },
  {
   "cell_type": "code",
   "execution_count": 13,
   "id": "9309c605",
   "metadata": {},
   "outputs": [
    {
     "data": {
      "text/plain": [
       "\n",
       "Call:\n",
       "lm(formula = y ~ X)\n",
       "\n",
       "Residuals:\n",
       "    1     2     3     4     5     6 \n",
       "-2.75 -3.25  3.50  7.25 -5.75  1.00 \n",
       "\n",
       "Coefficients:\n",
       "            Estimate Std. Error t value Pr(>|t|)   \n",
       "(Intercept)  31.5000     2.5495  12.355  0.00114 **\n",
       "X1            1.7750     0.3122   5.685  0.01079 * \n",
       "X2            4.0500     0.6245   6.485  0.00744 **\n",
       "---\n",
       "Signif. codes:  0 '***' 0.001 '**' 0.01 '*' 0.05 '.' 0.1 ' ' 1\n",
       "\n",
       "Residual standard error: 6.245 on 3 degrees of freedom\n",
       "Multiple R-squared:  0.9612,\tAdjusted R-squared:  0.9354 \n",
       "F-statistic: 37.19 on 2 and 3 DF,  p-value: 0.007635\n"
      ]
     },
     "metadata": {},
     "output_type": "display_data"
    }
   ],
   "source": [
    "summary(modelo)"
   ]
  },
  {
   "cell_type": "code",
   "execution_count": 14,
   "id": "617daa9d",
   "metadata": {},
   "outputs": [
    {
     "data": {
      "text/html": [
       "6.2449979983984"
      ],
      "text/latex": [
       "6.2449979983984"
      ],
      "text/markdown": [
       "6.2449979983984"
      ],
      "text/plain": [
       "[1] 6.244998"
      ]
     },
     "metadata": {},
     "output_type": "display_data"
    }
   ],
   "source": [
    "sigma(modelo)"
   ]
  },
  {
   "cell_type": "code",
   "execution_count": 20,
   "id": "c468eea9",
   "metadata": {},
   "outputs": [
    {
     "data": {
      "text/html": [
       "<table class=\"dataframe\">\n",
       "<caption>A anova: 2 × 5</caption>\n",
       "<thead>\n",
       "\t<tr><th></th><th scope=col>Df</th><th scope=col>Sum Sq</th><th scope=col>Mean Sq</th><th scope=col>F value</th><th scope=col>Pr(&gt;F)</th></tr>\n",
       "\t<tr><th></th><th scope=col>&lt;int&gt;</th><th scope=col>&lt;dbl&gt;</th><th scope=col>&lt;dbl&gt;</th><th scope=col>&lt;dbl&gt;</th><th scope=col>&lt;dbl&gt;</th></tr>\n",
       "</thead>\n",
       "<tbody>\n",
       "\t<tr><th scope=row>X</th><td>2</td><td>2900.5</td><td>1450.25</td><td>37.1859</td><td>0.007634979</td></tr>\n",
       "\t<tr><th scope=row>Residuals</th><td>3</td><td> 117.0</td><td>  39.00</td><td>     NA</td><td>         NA</td></tr>\n",
       "</tbody>\n",
       "</table>\n"
      ],
      "text/latex": [
       "A anova: 2 × 5\n",
       "\\begin{tabular}{r|lllll}\n",
       "  & Df & Sum Sq & Mean Sq & F value & Pr(>F)\\\\\n",
       "  & <int> & <dbl> & <dbl> & <dbl> & <dbl>\\\\\n",
       "\\hline\n",
       "\tX & 2 & 2900.5 & 1450.25 & 37.1859 & 0.007634979\\\\\n",
       "\tResiduals & 3 &  117.0 &   39.00 &      NA &          NA\\\\\n",
       "\\end{tabular}\n"
      ],
      "text/markdown": [
       "\n",
       "A anova: 2 × 5\n",
       "\n",
       "| <!--/--> | Df &lt;int&gt; | Sum Sq &lt;dbl&gt; | Mean Sq &lt;dbl&gt; | F value &lt;dbl&gt; | Pr(&gt;F) &lt;dbl&gt; |\n",
       "|---|---|---|---|---|---|\n",
       "| X | 2 | 2900.5 | 1450.25 | 37.1859 | 0.007634979 |\n",
       "| Residuals | 3 |  117.0 |   39.00 |      NA |          NA |\n",
       "\n"
      ],
      "text/plain": [
       "          Df Sum Sq Mean Sq F value Pr(>F)     \n",
       "X         2  2900.5 1450.25 37.1859 0.007634979\n",
       "Residuals 3   117.0   39.00      NA          NA"
      ]
     },
     "metadata": {},
     "output_type": "display_data"
    }
   ],
   "source": [
    "anova(modelo)"
   ]
  },
  {
   "cell_type": "code",
   "execution_count": 22,
   "id": "cd35ace2",
   "metadata": {},
   "outputs": [
    {
     "data": {
      "text/html": [
       "<table class=\"dataframe\">\n",
       "<caption>A matrix: 3 × 2 of type dbl</caption>\n",
       "<thead>\n",
       "\t<tr><th></th><th scope=col>2.5 %</th><th scope=col>97.5 %</th></tr>\n",
       "</thead>\n",
       "<tbody>\n",
       "\t<tr><th scope=row>(Intercept)</th><td>23.3863221</td><td>39.613678</td></tr>\n",
       "\t<tr><th scope=row>X1</th><td> 0.7812815</td><td> 2.768719</td></tr>\n",
       "\t<tr><th scope=row>X2</th><td> 2.0625629</td><td> 6.037437</td></tr>\n",
       "</tbody>\n",
       "</table>\n"
      ],
      "text/latex": [
       "A matrix: 3 × 2 of type dbl\n",
       "\\begin{tabular}{r|ll}\n",
       "  & 2.5 \\% & 97.5 \\%\\\\\n",
       "\\hline\n",
       "\t(Intercept) & 23.3863221 & 39.613678\\\\\n",
       "\tX1 &  0.7812815 &  2.768719\\\\\n",
       "\tX2 &  2.0625629 &  6.037437\\\\\n",
       "\\end{tabular}\n"
      ],
      "text/markdown": [
       "\n",
       "A matrix: 3 × 2 of type dbl\n",
       "\n",
       "| <!--/--> | 2.5 % | 97.5 % |\n",
       "|---|---|---|\n",
       "| (Intercept) | 23.3863221 | 39.613678 |\n",
       "| X1 |  0.7812815 |  2.768719 |\n",
       "| X2 |  2.0625629 |  6.037437 |\n",
       "\n"
      ],
      "text/plain": [
       "            2.5 %      97.5 %   \n",
       "(Intercept) 23.3863221 39.613678\n",
       "X1           0.7812815  2.768719\n",
       "X2           2.0625629  6.037437"
      ]
     },
     "metadata": {},
     "output_type": "display_data"
    }
   ],
   "source": [
    "confint(modelo, level = 0.95)"
   ]
  },
  {
   "cell_type": "code",
   "execution_count": 17,
   "id": "59f6190b",
   "metadata": {},
   "outputs": [
    {
     "data": {
      "text/html": [
       "9.55209449592115"
      ],
      "text/latex": [
       "9.55209449592115"
      ],
      "text/markdown": [
       "9.55209449592115"
      ],
      "text/plain": [
       "[1] 9.552094"
      ]
     },
     "metadata": {},
     "output_type": "display_data"
    }
   ],
   "source": [
    "F_tabla = qf(0.95, 2, 3)\n",
    "F_tabla"
   ]
  },
  {
   "cell_type": "code",
   "execution_count": 18,
   "id": "af10d1b7",
   "metadata": {},
   "outputs": [
    {
     "data": {
      "text/html": [
       "<table class=\"dataframe\">\n",
       "<caption>A matrix: 3 × 3 of type dbl</caption>\n",
       "<tbody>\n",
       "\t<tr><td>1</td><td>0</td><td>0</td></tr>\n",
       "\t<tr><td>0</td><td>1</td><td>0</td></tr>\n",
       "\t<tr><td>0</td><td>0</td><td>1</td></tr>\n",
       "</tbody>\n",
       "</table>\n"
      ],
      "text/latex": [
       "A matrix: 3 × 3 of type dbl\n",
       "\\begin{tabular}{lll}\n",
       "\t 1 & 0 & 0\\\\\n",
       "\t 0 & 1 & 0\\\\\n",
       "\t 0 & 0 & 1\\\\\n",
       "\\end{tabular}\n"
      ],
      "text/markdown": [
       "\n",
       "A matrix: 3 × 3 of type dbl\n",
       "\n",
       "| 1 | 0 | 0 |\n",
       "| 0 | 1 | 0 |\n",
       "| 0 | 0 | 1 |\n",
       "\n"
      ],
      "text/plain": [
       "     [,1] [,2] [,3]\n",
       "[1,] 1    0    0   \n",
       "[2,] 0    1    0   \n",
       "[3,] 0    0    1   "
      ]
     },
     "metadata": {},
     "output_type": "display_data"
    }
   ],
   "source": [
    "diag(3)"
   ]
  },
  {
   "cell_type": "code",
   "execution_count": 21,
   "id": "68b64d69",
   "metadata": {},
   "outputs": [
    {
     "data": {
      "text/html": [
       "<table class=\"dataframe\">\n",
       "<caption>A matrix: 2 × 2 of type dbl</caption>\n",
       "<tbody>\n",
       "\t<tr><td>0.5</td><td>0.5</td></tr>\n",
       "\t<tr><td>0.5</td><td>0.5</td></tr>\n",
       "</tbody>\n",
       "</table>\n"
      ],
      "text/latex": [
       "A matrix: 2 × 2 of type dbl\n",
       "\\begin{tabular}{ll}\n",
       "\t 0.5 & 0.5\\\\\n",
       "\t 0.5 & 0.5\\\\\n",
       "\\end{tabular}\n"
      ],
      "text/markdown": [
       "\n",
       "A matrix: 2 × 2 of type dbl\n",
       "\n",
       "| 0.5 | 0.5 |\n",
       "| 0.5 | 0.5 |\n",
       "\n"
      ],
      "text/plain": [
       "     [,1] [,2]\n",
       "[1,] 0.5  0.5 \n",
       "[2,] 0.5  0.5 "
      ]
     },
     "metadata": {},
     "output_type": "display_data"
    }
   ],
   "source": [
    "matrix(0.5, 2, 2)"
   ]
  },
  {
   "cell_type": "code",
   "execution_count": 24,
   "id": "d5178dc2",
   "metadata": {},
   "outputs": [
    {
     "data": {
      "text/html": [
       "<table class=\"dataframe\">\n",
       "<caption>A matrix: 6 × 2 of type dbl</caption>\n",
       "<tbody>\n",
       "\t<tr><td>-10</td><td> 0</td></tr>\n",
       "\t<tr><td>  0</td><td>-5</td></tr>\n",
       "\t<tr><td> 10</td><td> 5</td></tr>\n",
       "\t<tr><td>-10</td><td> 0</td></tr>\n",
       "\t<tr><td>  0</td><td> 5</td></tr>\n",
       "\t<tr><td> 10</td><td>-5</td></tr>\n",
       "</tbody>\n",
       "</table>\n"
      ],
      "text/latex": [
       "A matrix: 6 × 2 of type dbl\n",
       "\\begin{tabular}{ll}\n",
       "\t -10 &  0\\\\\n",
       "\t   0 & -5\\\\\n",
       "\t  10 &  5\\\\\n",
       "\t -10 &  0\\\\\n",
       "\t   0 &  5\\\\\n",
       "\t  10 & -5\\\\\n",
       "\\end{tabular}\n"
      ],
      "text/markdown": [
       "\n",
       "A matrix: 6 × 2 of type dbl\n",
       "\n",
       "| -10 |  0 |\n",
       "|   0 | -5 |\n",
       "|  10 |  5 |\n",
       "| -10 |  0 |\n",
       "|   0 |  5 |\n",
       "|  10 | -5 |\n",
       "\n"
      ],
      "text/plain": [
       "     [,1] [,2]\n",
       "[1,] -10   0  \n",
       "[2,]   0  -5  \n",
       "[3,]  10   5  \n",
       "[4,] -10   0  \n",
       "[5,]   0   5  \n",
       "[6,]  10  -5  "
      ]
     },
     "metadata": {},
     "output_type": "display_data"
    }
   ],
   "source": [
    "X <- matrix(c( -10, 0,10,-10,0,10,\n",
    "                 0,-5, 5,  0,5,-5 ), nrow = 6, ncol = 2)\n",
    "X"
   ]
  },
  {
   "cell_type": "code",
   "execution_count": 26,
   "id": "76987341",
   "metadata": {},
   "outputs": [
    {
     "data": {
      "text/html": [
       "<table class=\"dataframe\">\n",
       "<caption>A matrix: 6 × 3 of type dbl</caption>\n",
       "<tbody>\n",
       "\t<tr><td>1</td><td>-10</td><td> 0</td></tr>\n",
       "\t<tr><td>1</td><td>  0</td><td>-5</td></tr>\n",
       "\t<tr><td>1</td><td> 10</td><td> 5</td></tr>\n",
       "\t<tr><td>1</td><td>-10</td><td> 0</td></tr>\n",
       "\t<tr><td>1</td><td>  0</td><td> 5</td></tr>\n",
       "\t<tr><td>1</td><td> 10</td><td>-5</td></tr>\n",
       "</tbody>\n",
       "</table>\n"
      ],
      "text/latex": [
       "A matrix: 6 × 3 of type dbl\n",
       "\\begin{tabular}{lll}\n",
       "\t 1 & -10 &  0\\\\\n",
       "\t 1 &   0 & -5\\\\\n",
       "\t 1 &  10 &  5\\\\\n",
       "\t 1 & -10 &  0\\\\\n",
       "\t 1 &   0 &  5\\\\\n",
       "\t 1 &  10 & -5\\\\\n",
       "\\end{tabular}\n"
      ],
      "text/markdown": [
       "\n",
       "A matrix: 6 × 3 of type dbl\n",
       "\n",
       "| 1 | -10 |  0 |\n",
       "| 1 |   0 | -5 |\n",
       "| 1 |  10 |  5 |\n",
       "| 1 | -10 |  0 |\n",
       "| 1 |   0 |  5 |\n",
       "| 1 |  10 | -5 |\n",
       "\n"
      ],
      "text/plain": [
       "     [,1] [,2] [,3]\n",
       "[1,] 1    -10   0  \n",
       "[2,] 1      0  -5  \n",
       "[3,] 1     10   5  \n",
       "[4,] 1    -10   0  \n",
       "[5,] 1      0   5  \n",
       "[6,] 1     10  -5  "
      ]
     },
     "metadata": {},
     "output_type": "display_data"
    }
   ],
   "source": [
    "vec_unos = function(n) matrix(1, nrow = n, ncol = 1)\n",
    "\n",
    "X = cbind(vec_unos(6),X)\n",
    "X"
   ]
  },
  {
   "cell_type": "code",
   "execution_count": null,
   "id": "b95236a1",
   "metadata": {},
   "outputs": [],
   "source": []
  }
 ],
 "metadata": {
  "kernelspec": {
   "display_name": "R",
   "language": "R",
   "name": "ir"
  },
  "language_info": {
   "codemirror_mode": "r",
   "file_extension": ".r",
   "mimetype": "text/x-r-source",
   "name": "R",
   "pygments_lexer": "r",
   "version": "4.3.1"
  }
 },
 "nbformat": 4,
 "nbformat_minor": 5
}
